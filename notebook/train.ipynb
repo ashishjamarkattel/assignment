{
 "cells": [
  {
   "cell_type": "markdown",
   "id": "cb3cdd88",
   "metadata": {},
   "source": [
    "### imports"
   ]
  },
  {
   "cell_type": "code",
   "execution_count": 6,
   "id": "36be74e8",
   "metadata": {},
   "outputs": [],
   "source": [
    "import pandas as pd\n",
    "import numpy as np\n",
    "import seaborn as sns\n",
    "import matplotlib.pyplot as plt\n",
    "from sklearn.model_selection import train_test_split\n",
    "import tensorflow as tf\n",
    "import keras\n",
    "import cv2 as cv\n",
    "import os"
   ]
  },
  {
   "cell_type": "markdown",
   "id": "6760d644",
   "metadata": {},
   "source": [
    "## Metrics\n",
    "\n",
    "<pre>\n",
    "Since dataset is not imbalanced .\n",
    "1. Accuracy can be the relative measure.\n",
    "\n",
    "2. It is the binary classification problem, So loss could be binary loss or categorical crossentropy(logloss) could \n",
    "be best.\n",
    "</pre>\n"
   ]
  },
  {
   "cell_type": "code",
   "execution_count": 29,
   "id": "f3b3bf2b",
   "metadata": {},
   "outputs": [],
   "source": [
    "train_dir = \"ToyDataset/toy_train\""
   ]
  },
  {
   "cell_type": "markdown",
   "id": "86ba660c",
   "metadata": {},
   "source": [
    "<pre>\n",
    "Since dataset is small we will use dataloader form keras.\n",
    "</pre>"
   ]
  },
  {
   "cell_type": "code",
   "execution_count": 70,
   "id": "35e8ec00",
   "metadata": {},
   "outputs": [
    {
     "name": "stdout",
     "output_type": "stream",
     "text": [
      "Train data circle:  494\n",
      "Train data rectangle 506\n"
     ]
    }
   ],
   "source": [
    "count = os.listdir(os.path.join(train_dir,\"circle\"))\n",
    "print(\"Train data circle: \",len(count))\n",
    "count = os.listdir(os.path.join(train_dir,\"rectangle\"))\n",
    "print(\"Train data rectangle\",len(count))"
   ]
  },
  {
   "cell_type": "markdown",
   "id": "84703310",
   "metadata": {},
   "source": [
    "#### Dataloader"
   ]
  },
  {
   "cell_type": "code",
   "execution_count": 35,
   "id": "11cbcd32",
   "metadata": {},
   "outputs": [],
   "source": [
    "from tensorflow.keras.preprocessing.image import ImageDataGenerator\n",
    "\n",
    "train_datagen = ImageDataGenerator(\n",
    "    \n",
    "    rescale=1./255,\n",
    "    horizontal_flip=True)\n",
    "\n",
    "val_datagen = ImageDataGenerator(rescale=1./255)"
   ]
  },
  {
   "cell_type": "code",
   "execution_count": 36,
   "id": "48d70a8f",
   "metadata": {},
   "outputs": [],
   "source": [
    "image_dim = (64,64)\n",
    "batch_size = 64"
   ]
  },
  {
   "cell_type": "code",
   "execution_count": 37,
   "id": "795e2175",
   "metadata": {},
   "outputs": [
    {
     "name": "stdout",
     "output_type": "stream",
     "text": [
      "Found 1000 images belonging to 2 classes.\n",
      "Found 200 images belonging to 2 classes.\n"
     ]
    }
   ],
   "source": [
    "train_generator = train_datagen.flow_from_directory(\n",
    "\n",
    "                    directory='ToyDataset/toy_train/',\n",
    "                    target_size=image_dim,\n",
    "                    batch_size=batch_size,\n",
    "                    \n",
    ")\n",
    "\n",
    "validation_generator = val_datagen.flow_from_directory(\n",
    "    'ToyDataset/toy_val/',\n",
    "    target_size=image_dim,\n",
    "    batch_size=batch_size,\n",
    "    )"
   ]
  },
  {
   "cell_type": "code",
   "execution_count": null,
   "id": "269396de",
   "metadata": {},
   "outputs": [],
   "source": []
  },
  {
   "cell_type": "markdown",
   "id": "1e142d89",
   "metadata": {},
   "source": [
    "### reviewing the images"
   ]
  },
  {
   "cell_type": "code",
   "execution_count": 38,
   "id": "4602ab5e",
   "metadata": {},
   "outputs": [
    {
     "data": {
      "image/png": "[encoded data removed]",
      "text/plain": [
       "<Figure size 1152x288 with 4 Axes>"
      ]
     },
     "metadata": {
      "needs_background": "light"
     },
     "output_type": "display_data"
    }
   ],
   "source": [
    "plt.figure(figsize=(16,4))\n",
    "for i,img in enumerate(train_generator[0][0][:4]):\n",
    "    plt.subplot(1, 4, i+1)\n",
    "    plt.imshow(img)\n",
    "     "
   ]
  },
  {
   "cell_type": "markdown",
   "id": "195da12b",
   "metadata": {},
   "source": [
    "<pre>\n",
    "Since provided image is the color image so color might be the dominating factor SO our cnn model could use color to detect the \n",
    "circle and rectangle which would be wrong. \n",
    "\n",
    "One possible solution could be \n",
    "\n",
    "1. Use black and white images rather than color images.(this will remove the effect the color effect)\n",
    "2. Augmentation can be done like detecting the edges ( since this will be done or learn in begining of the cnn )\n",
    "</pre>"
   ]
  },
  {
   "cell_type": "markdown",
   "id": "9e845f9d",
   "metadata": {},
   "source": [
    "### Developing the Model\n",
    "\n",
    "<pre>\n",
    "<b> Model 1 </b>\n",
    "\n",
    "without feature processing.\n",
    "\n",
    "we will try to learn the small feature at the beginnig so using small filter size at the begining of the model and increase our filter. or filter can be kept small tough out the process.\n",
    "</pre>"
   ]
  },
  {
   "cell_type": "code",
   "execution_count": 70,
   "id": "4dc28e45",
   "metadata": {},
   "outputs": [],
   "source": [
    "image_size = (64,64,3)\n",
    "\n",
    "# making the model\n",
    "inputs = keras.layers.Input(shape=(image_size))\n",
    "x = keras.layers.Conv2D(64,3,activation=\"relu\",kernel_initializer=tf.keras.initializers.GlorotNormal())(inputs)\n",
    "x = keras.layers.Conv2D(128,3,activation=\"relu\",kernel_initializer=tf.keras.initializers.GlorotNormal())(x)\n",
    "x = keras.layers.Conv2D(256,5,activation=\"relu\",kernel_initializer=tf.keras.initializers.GlorotNormal())(x)\n",
    "x = keras.layers.Flatten()(x)\n",
    "x = keras.layers.Dense(64,activation=\"relu\")(x)\n",
    "outputs = keras.layers.Dense(2,activation=\"softmax\")(x)\n",
    "\n",
    "## defining the model\n",
    "model = keras.models.Model(inputs=inputs,outputs=outputs)"
   ]
  },
  {
   "cell_type": "code",
   "execution_count": 73,
   "id": "e58e9f22",
   "metadata": {},
   "outputs": [
    {
     "name": "stdout",
     "output_type": "stream",
     "text": [
      "Epoch 1/10\n",
      "16/16 [==============================] - 96s 6s/step - loss: 7.4389 - accuracy: 0.5910 - val_loss: 0.6474 - val_accuracy: 0.5600\n",
      "Epoch 2/10\n",
      "16/16 [==============================] - 100s 6s/step - loss: 0.9520 - accuracy: 0.6660 - val_loss: 0.5001 - val_accuracy: 0.4900\n",
      "Epoch 3/10\n",
      "16/16 [==============================] - 102s 6s/step - loss: 0.4700 - accuracy: 0.5430 - val_loss: 0.5024 - val_accuracy: 0.8000\n",
      "Epoch 4/10\n",
      "16/16 [==============================] - 105s 7s/step - loss: 0.5240 - accuracy: 0.7960 - val_loss: 0.5414 - val_accuracy: 0.7300\n",
      "Epoch 5/10\n",
      "16/16 [==============================] - 108s 7s/step - loss: 0.4917 - accuracy: 0.7860 - val_loss: 0.4921 - val_accuracy: 0.7900\n",
      "Epoch 6/10\n",
      "16/16 [==============================] - 109s 7s/step - loss: 0.4833 - accuracy: 0.7980 - val_loss: 0.4859 - val_accuracy: 0.7950\n",
      "Epoch 7/10\n",
      "16/16 [==============================] - 110s 7s/step - loss: 0.4850 - accuracy: 0.7980 - val_loss: 0.5617 - val_accuracy: 0.6900\n",
      "Epoch 8/10\n",
      "16/16 [==============================] - 109s 7s/step - loss: 0.5668 - accuracy: 0.6770 - val_loss: 0.5809 - val_accuracy: 0.6600\n",
      "Epoch 9/10\n",
      "16/16 [==============================] - 108s 7s/step - loss: 0.5534 - accuracy: 0.6930 - val_loss: 0.5502 - val_accuracy: 0.7000\n",
      "Epoch 10/10\n",
      "16/16 [==============================] - 108s 7s/step - loss: 0.4879 - accuracy: 0.7780 - val_loss: 0.4481 - val_accuracy: 0.8300\n"
     ]
    },
    {
     "data": {
      "text/plain": [
       "<keras.callbacks.History at 0x2197bed2a30>"
      ]
     },
     "execution_count": 73,
     "metadata": {},
     "output_type": "execute_result"
    }
   ],
   "source": [
    "epoch = 10\n",
    "model.compile(optimizer=\"adam\",loss=\"categorical_crossentropy\",metrics=\"accuracy\")\n",
    "model.fit(train_generator,validation_data=validation_generator,epochs=epoch)"
   ]
  },
  {
   "cell_type": "code",
   "execution_count": 82,
   "id": "e284f24a",
   "metadata": {},
   "outputs": [
    {
     "data": {
      "text/plain": [
       "[<matplotlib.lines.Line2D at 0x21972d33220>]"
      ]
     },
     "execution_count": 82,
     "metadata": {},
     "output_type": "execute_result"
    },
    {
     "data": {
      "image/png": "[encoded data removed]",
      "text/plain": [
       "<Figure size 1152x720 with 1 Axes>"
      ]
     },
     "metadata": {
      "needs_background": "light"
     },
     "output_type": "display_data"
    }
   ],
   "source": [
    "plt.figure(figsize=(16,10))\n",
    "train_loss = model.history.history[\"loss\"]\n",
    "val_loss = model.history.history[\"val_loss\"]\n",
    "plt.plot(train_loss,color=\"red\")\n",
    "plt.plot(val_loss,color=\"blue\")"
   ]
  },
  {
   "cell_type": "code",
   "execution_count": 83,
   "id": "d2204e4c",
   "metadata": {},
   "outputs": [
    {
     "data": {
      "text/plain": [
       "[<matplotlib.lines.Line2D at 0x2197388a4f0>]"
      ]
     },
     "execution_count": 83,
     "metadata": {},
     "output_type": "execute_result"
    },
    {
     "data": {
      "image/png": "[encoded data removed]",
      "text/plain": [
       "<Figure size 1152x720 with 1 Axes>"
      ]
     },
     "metadata": {
      "needs_background": "light"
     },
     "output_type": "display_data"
    }
   ],
   "source": [
    "plt.figure(figsize=(16,10))\n",
    "train_loss = model.history.history[\"accuracy\"]\n",
    "val_loss = model.history.history[\"val_accuracy\"]\n",
    "plt.plot(train_loss,color=\"red\")\n",
    "plt.plot(val_loss,color=\"blue\")"
   ]
  },
  {
   "cell_type": "code",
   "execution_count": 109,
   "id": "67b3ff0a",
   "metadata": {},
   "outputs": [],
   "source": [
    "\n",
    "import os\n",
    "import pandas as pd\n",
    "val_data = \"ToyDataset/toy_val\"\n",
    "images = os.listdir(val_dir)\n",
    "images_circle = [val_dir+\"/circle\"+\"/\"+img for img in os.listdir(val_dir+\"/circle\")]\n",
    "images_rectangle = [val_dir+\"/rectangle\"+\"/\"+img for img in os.listdir(val_dir+\"/rectangle\")]\n",
    "df_circle = pd.DataFrame({\n",
    "    \"image\": images_circle,\n",
    "    \n",
    "})\n",
    "df_rectangle = pd.DataFrame({\n",
    "    \"image\": images_rectangle,\n",
    "    \n",
    "})\n"
   ]
  },
  {
   "cell_type": "code",
   "execution_count": 110,
   "id": "d403e77b",
   "metadata": {},
   "outputs": [],
   "source": [
    "df_circle[\"label\"] = 0\n",
    "df_rectangle[\"label\"]=1\n",
    "final = pd.concat([df_circle,df_rectangle],axis=0)\n",
    "final = final.sample(frac=1)\n",
    "final = final.reset_index(drop=True)"
   ]
  },
  {
   "cell_type": "code",
   "execution_count": 116,
   "id": "d9a3fdd3",
   "metadata": {},
   "outputs": [
    {
     "data": {
      "text/plain": [
       "[1, 0, 0]"
      ]
     },
     "execution_count": 116,
     "metadata": {},
     "output_type": "execute_result"
    }
   ],
   "source": [
    "prediction = []\n",
    "for row in final[\"image\"]:\n",
    "    img = cv.imread(row)\n",
    "    img = np.expand_dims(img,axis=0)\n",
    "    pred = model.predict(img)\n",
    "    pred = np.argmax(pred)\n",
    "    prediction.append(pred)\n",
    "    \n",
    "prediction[:3]\n",
    "    "
   ]
  },
  {
   "cell_type": "code",
   "execution_count": 117,
   "id": "dea389dc",
   "metadata": {},
   "outputs": [
    {
     "data": {
      "text/plain": [
       "array([[60, 38],\n",
       "       [91, 11]], dtype=int64)"
      ]
     },
     "execution_count": 117,
     "metadata": {},
     "output_type": "execute_result"
    }
   ],
   "source": [
    "from sklearn.metrics import confusion_matrix\n",
    "confusion_matrix(final['label'].values,prediction)"
   ]
  },
  {
   "cell_type": "markdown",
   "id": "174ab00a",
   "metadata": {},
   "source": [
    "#### Observation\n",
    "<pre>\n",
    "Model seems to be overfitten ie has introduced high varience in it. \n",
    "\n",
    "Model has not generalized circle correctly.\n",
    "</pre>\n",
    "\n",
    "\n",
    "\n",
    "## Model 2\n",
    "<pre>\n",
    "Model with tweeking or learning\n",
    "</pre>"
   ]
  },
  {
   "cell_type": "code",
   "execution_count": 40,
   "id": "2927e510",
   "metadata": {},
   "outputs": [],
   "source": [
    "from tensorflow.keras.preprocessing.image import ImageDataGenerator\n",
    "\n",
    "train_datagen = ImageDataGenerator(\n",
    "    \n",
    "    rescale=1./255,\n",
    "\n",
    "    )\n",
    "\n",
    "val_datagen = ImageDataGenerator(rescale=1./255)"
   ]
  },
  {
   "cell_type": "code",
   "execution_count": 41,
   "id": "ede343be",
   "metadata": {},
   "outputs": [
    {
     "name": "stdout",
     "output_type": "stream",
     "text": [
      "Found 1000 images belonging to 2 classes.\n",
      "Found 200 images belonging to 2 classes.\n"
     ]
    }
   ],
   "source": [
    "batch_size=64\n",
    "\n",
    "train_generator = train_datagen.flow_from_directory(\n",
    "\n",
    "                    directory='ToyDataset/toy_train/',\n",
    "                    target_size=image_dim,\n",
    "                    batch_size=batch_size,\n",
    "                    \n",
    ")\n",
    "\n",
    "validation_generator = val_datagen.flow_from_directory(\n",
    "    directory='ToyDataset/toy_val/',\n",
    "    target_size=image_dim,\n",
    "    batch_size=batch_size,\n",
    "    )"
   ]
  },
  {
   "cell_type": "code",
   "execution_count": 161,
   "id": "5b215998",
   "metadata": {},
   "outputs": [],
   "source": [
    "image_size = (64,64,3)\n",
    "\n",
    "# making the model\n",
    "inputs = keras.layers.Input(shape=(image_size))\n",
    "# x = keras.layers.Conv2D(512,3,activation=\"relu\")(inputs)\n",
    "x = keras.layers.Conv2D(256,3,activation=\"relu\")(inputs)\n",
    "x = keras.layers.MaxPool2D((2,2))(x)\n",
    "x = keras.layers.Conv2D(128,3,activation=\"relu\")(x)\n",
    "x = keras.layers.MaxPool2D((2,2))(x)\n",
    "x = keras.layers.Conv2D(64,5,activation=\"relu\")(x)\n",
    "x = keras.layers.MaxPool2D((2,2))(x)\n",
    "x = keras.layers.Conv2D(32,5,activation=\"relu\")(x)\n",
    "x = keras.layers.Flatten()(x)\n",
    "x = keras.layers.Dense(64,activation=\"relu\")(x)\n",
    "x = keras.layers.Dense(32,activation=\"relu\")(x)\n",
    "x = keras.layers.Dense(16,activation=\"relu\")(x)\n",
    "outputs = keras.layers.Dense(2,activation=\"softmax\")(x)\n",
    "\n",
    "## defining the model\n",
    "model = keras.models.Model(inputs=inputs,outputs=outputs)"
   ]
  },
  {
   "cell_type": "code",
   "execution_count": 162,
   "id": "d9932a97",
   "metadata": {},
   "outputs": [
    {
     "name": "stdout",
     "output_type": "stream",
     "text": [
      "Epoch 1/10\n",
      "32/32 [==============================] - 20s 612ms/step - loss: 0.6446 - accuracy: 0.6130 - val_loss: 0.5270 - val_accuracy: 0.6700\n",
      "Epoch 2/10\n",
      "32/32 [==============================] - 21s 648ms/step - loss: 0.4458 - accuracy: 0.8000 - val_loss: 0.4187 - val_accuracy: 0.8350\n",
      "Epoch 3/10\n",
      "32/32 [==============================] - 21s 646ms/step - loss: 0.3835 - accuracy: 0.8370 - val_loss: 0.3743 - val_accuracy: 0.8350\n",
      "Epoch 4/10\n",
      "32/32 [==============================] - 20s 630ms/step - loss: 0.3745 - accuracy: 0.8390 - val_loss: 0.3752 - val_accuracy: 0.8350\n",
      "Epoch 5/10\n",
      "32/32 [==============================] - 22s 673ms/step - loss: 0.3703 - accuracy: 0.8390 - val_loss: 0.3698 - val_accuracy: 0.8350\n"
     ]
    },
    {
     "data": {
      "text/plain": [
       "<keras.callbacks.History at 0x2197a7a6c40>"
      ]
     },
     "execution_count": 162,
     "metadata": {},
     "output_type": "execute_result"
    }
   ],
   "source": [
    "epoch = 10\n",
    "callbacks = keras.callbacks.EarlyStopping(patience=2, min_delta=0.01, monitor=\"val_loss\")\n",
    "opt = tf.keras.optimizers.Adam(learning_rate=3e-4)\n",
    "model.compile(optimizer=opt,loss=\"categorical_crossentropy\",metrics=\"accuracy\")\n",
    "model.fit(train_generator,validation_data=validation_generator,epochs=epoch,callbacks=callbacks)"
   ]
  },
  {
   "cell_type": "code",
   "execution_count": 140,
   "id": "c939ccc6",
   "metadata": {},
   "outputs": [],
   "source": [
    "# model.save(\"model1.h5\") ## 83.50 percent accuracy\n",
    "# model.save(\"model2.h5\") ## 512 and dense 32 added"
   ]
  },
  {
   "cell_type": "markdown",
   "id": "4ea874cd",
   "metadata": {},
   "source": [
    "## Transfer Learning\n",
    "\n",
    "<pre>\n",
    "Since dataset is small we will freeze all the other layer for training, remove top layer \n",
    "</pre>"
   ]
  },
  {
   "cell_type": "code",
   "execution_count": 42,
   "id": "5c383d31",
   "metadata": {},
   "outputs": [],
   "source": [
    "from tensorflow.keras.applications.resnet50 import ResNet50"
   ]
  },
  {
   "cell_type": "code",
   "execution_count": 57,
   "id": "5106f800",
   "metadata": {},
   "outputs": [
    {
     "name": "stdout",
     "output_type": "stream",
     "text": [
      "Model: \"model_1\"\n",
      "_________________________________________________________________\n",
      " Layer (type)                Output Shape              Param #   \n",
      "=================================================================\n",
      " input_4 (InputLayer)        [(None, 64, 64, 3)]       0         \n",
      "                                                                 \n",
      " resnet50 (Functional)       (None, 2, 2, 2048)        23587712  \n",
      "                                                                 \n",
      " flatten_1 (Flatten)         (None, 8192)              0         \n",
      "                                                                 \n",
      " dense_1 (Dense)             (None, 2)                 16386     \n",
      "                                                                 \n",
      "=================================================================\n",
      "Total params: 23,604,098\n",
      "Trainable params: 16,386\n",
      "Non-trainable params: 23,587,712\n",
      "_________________________________________________________________\n"
     ]
    }
   ],
   "source": [
    "base_model = ResNet50(\n",
    "     include_top=False,\n",
    "    weights=\"imagenet\",\n",
    "    input_shape=(64,64,3)\n",
    "                )\n",
    "base_model.trainable = False\n",
    "inputs = keras.layers.Input(shape=(64,64,3))\n",
    "x = base_model(inputs)\n",
    "# x = keras.layers.MaxPool2D((2,2))(x)\n",
    "x = keras.layers.Flatten()(x)\n",
    "outputs = keras.layers.Dense(2,activation=\"softmax\")(x)\n",
    "\n",
    "## defining the model\n",
    "model = keras.models.Model(inputs=inputs,outputs=outputs)\n",
    "\n",
    "model.summary()"
   ]
  },
  {
   "cell_type": "code",
   "execution_count": 413,
   "id": "3fafd42b",
   "metadata": {},
   "outputs": [],
   "source": [
    "from tensorflow.keras import backend as K\n",
    "def custom_f1(y_true, y_pred):    \n",
    "    def recall_m(y_true, y_pred):\n",
    "        TP = K.sum(K.round(K.clip(y_true * y_pred, 0, 1)))\n",
    "        Positives = K.sum(K.round(K.clip(y_true, 0, 1)))\n",
    "        \n",
    "        recall = TP / (Positives+K.epsilon())    \n",
    "        return recall \n",
    "    \n",
    "    \n",
    "    def precision_m(y_true, y_pred):\n",
    "        TP = K.sum(K.round(K.clip(y_true * y_pred, 0, 1)))\n",
    "        Pred_Positives = K.sum(K.round(K.clip(y_pred, 0, 1)))\n",
    "    \n",
    "        precision = TP / (Pred_Positives+K.epsilon())\n",
    "        return precision \n",
    "    \n",
    "    precision, recall = precision_m(y_true, y_pred), recall_m(y_true, y_pred)\n",
    "    \n",
    "    return 2*((precision*recall)/(precision+recall+K.epsilon()))"
   ]
  },
  {
   "cell_type": "code",
   "execution_count": 58,
   "id": "24bd5468",
   "metadata": {},
   "outputs": [],
   "source": [
    "epoch = 10\n",
    "callbacks = keras.callbacks.EarlyStopping(patience=2, min_delta=0.01, monitor=\"val_loss\")\n",
    "opt = tf.keras.optimizers.Adam(learning_rate=0.001)\n",
    "model.compile(optimizer=opt,loss=\"categorical_crossentropy\",metrics=[\"accuracy\"])\n",
    "# model.fit(train_generator,validation_data=validation_generator,epochs=epoch,callbacks=callbacks)"
   ]
  },
  {
   "cell_type": "code",
   "execution_count": 59,
   "id": "4029a358",
   "metadata": {},
   "outputs": [
    {
     "name": "stdout",
     "output_type": "stream",
     "text": [
      "Epoch 1/10\n",
      "16/16 [==============================] - 10s 517ms/step - loss: 0.6106 - accuracy: 0.6810 - val_loss: 0.4868 - val_accuracy: 0.8200\n",
      "Epoch 2/10\n",
      "16/16 [==============================] - 7s 441ms/step - loss: 0.4062 - accuracy: 0.8700 - val_loss: 0.3433 - val_accuracy: 0.9350\n",
      "Epoch 3/10\n",
      "16/16 [==============================] - 7s 447ms/step - loss: 0.3092 - accuracy: 0.9300 - val_loss: 0.2785 - val_accuracy: 0.9100\n",
      "Epoch 4/10\n",
      "16/16 [==============================] - 7s 458ms/step - loss: 0.2544 - accuracy: 0.9500 - val_loss: 0.2376 - val_accuracy: 0.9400\n",
      "Epoch 5/10\n",
      "16/16 [==============================] - 7s 471ms/step - loss: 0.2182 - accuracy: 0.9650 - val_loss: 0.2158 - val_accuracy: 0.9100\n",
      "Epoch 6/10\n",
      "16/16 [==============================] - 8s 484ms/step - loss: 0.1922 - accuracy: 0.9680 - val_loss: 0.1898 - val_accuracy: 0.9400\n",
      "Epoch 7/10\n",
      "16/16 [==============================] - 8s 480ms/step - loss: 0.1703 - accuracy: 0.9760 - val_loss: 0.1663 - val_accuracy: 0.9800\n",
      "Epoch 8/10\n",
      "16/16 [==============================] - 8s 483ms/step - loss: 0.1539 - accuracy: 0.9800 - val_loss: 0.1515 - val_accuracy: 0.9850\n",
      "Epoch 9/10\n",
      "16/16 [==============================] - 8s 483ms/step - loss: 0.1381 - accuracy: 0.9810 - val_loss: 0.1415 - val_accuracy: 0.9700\n",
      "Epoch 10/10\n",
      "16/16 [==============================] - 8s 514ms/step - loss: 0.1264 - accuracy: 0.9870 - val_loss: 0.1300 - val_accuracy: 0.9850\n"
     ]
    },
    {
     "data": {
      "text/plain": [
       "<keras.callbacks.History at 0x1f6b869f100>"
      ]
     },
     "execution_count": 59,
     "metadata": {},
     "output_type": "execute_result"
    }
   ],
   "source": [
    "model.fit(train_generator,validation_data=validation_generator,epochs=epoch,callbacks=callbacks)"
   ]
  },
  {
   "cell_type": "code",
   "execution_count": 67,
   "id": "d69dae53",
   "metadata": {},
   "outputs": [],
   "source": [
    "\n",
    "model = keras.models.load_model(\"latest.h5\")"
   ]
  },
  {
   "cell_type": "markdown",
   "id": "3322fe00",
   "metadata": {},
   "source": [
    "### Testing Models...."
   ]
  },
  {
   "cell_type": "code",
   "execution_count": 68,
   "id": "30c99f66",
   "metadata": {},
   "outputs": [
    {
     "name": "stdout",
     "output_type": "stream",
     "text": [
      "Actual :  0 predicted :  0\n",
      "Actual :  0 predicted :  0\n",
      "Actual :  0 predicted :  0\n",
      "Actual :  0 predicted :  0\n",
      "Actual :  0 predicted :  0\n",
      "Actual :  0 predicted :  0\n",
      "Actual :  0 predicted :  0\n",
      "Actual :  0 predicted :  0\n",
      "Actual :  0 predicted :  0\n",
      "Actual :  0 predicted :  0\n",
      "Actual :  0 predicted :  0\n",
      "Actual :  0 predicted :  0\n",
      "Actual :  0 predicted :  0\n",
      "Actual :  0 predicted :  0\n",
      "Actual :  0 predicted :  0\n",
      "Actual :  0 predicted :  0\n",
      "Actual :  0 predicted :  0\n",
      "Actual :  0 predicted :  0\n",
      "Actual :  0 predicted :  0\n",
      "Actual :  0 predicted :  0\n",
      "Actual :  0 predicted :  0\n",
      "Actual :  0 predicted :  0\n",
      "Actual :  0 predicted :  0\n",
      "Actual :  0 predicted :  0\n",
      "Actual :  0 predicted :  0\n",
      "Actual :  0 predicted :  0\n",
      "Actual :  0 predicted :  0\n",
      "Actual :  0 predicted :  0\n",
      "Actual :  0 predicted :  0\n",
      "Actual :  0 predicted :  0\n",
      "Actual :  0 predicted :  0\n",
      "Actual :  0 predicted :  0\n",
      "Actual :  0 predicted :  0\n",
      "Actual :  0 predicted :  0\n",
      "Actual :  0 predicted :  0\n",
      "Actual :  0 predicted :  0\n",
      "Actual :  0 predicted :  0\n",
      "Actual :  0 predicted :  0\n",
      "Actual :  0 predicted :  0\n",
      "Actual :  0 predicted :  0\n",
      "Actual :  0 predicted :  0\n",
      "Actual :  0 predicted :  0\n",
      "Actual :  0 predicted :  0\n",
      "Actual :  0 predicted :  0\n",
      "Actual :  0 predicted :  0\n",
      "Actual :  0 predicted :  0\n",
      "Actual :  0 predicted :  0\n",
      "Actual :  0 predicted :  0\n",
      "Actual :  0 predicted :  0\n",
      "Actual :  0 predicted :  0\n",
      "Actual :  0 predicted :  0\n",
      "Actual :  0 predicted :  0\n",
      "Actual :  0 predicted :  0\n",
      "Actual :  0 predicted :  0\n",
      "Actual :  0 predicted :  0\n",
      "Actual :  0 predicted :  0\n",
      "Actual :  0 predicted :  0\n",
      "Actual :  0 predicted :  0\n",
      "Actual :  0 predicted :  0\n",
      "Actual :  0 predicted :  0\n",
      "Actual :  0 predicted :  0\n",
      "Actual :  0 predicted :  0\n",
      "Actual :  0 predicted :  0\n",
      "Actual :  0 predicted :  0\n",
      "Actual :  0 predicted :  0\n",
      "Actual :  0 predicted :  0\n",
      "Actual :  0 predicted :  0\n",
      "Actual :  0 predicted :  0\n",
      "Actual :  0 predicted :  0\n",
      "Actual :  0 predicted :  0\n",
      "Actual :  0 predicted :  0\n",
      "Actual :  0 predicted :  0\n",
      "Actual :  0 predicted :  0\n",
      "Actual :  0 predicted :  0\n",
      "Actual :  0 predicted :  0\n",
      "Actual :  0 predicted :  0\n",
      "Actual :  0 predicted :  0\n",
      "Actual :  0 predicted :  0\n",
      "Actual :  0 predicted :  0\n",
      "Actual :  0 predicted :  0\n",
      "Actual :  0 predicted :  0\n",
      "Actual :  0 predicted :  0\n",
      "Actual :  0 predicted :  0\n",
      "Actual :  0 predicted :  0\n",
      "Actual :  0 predicted :  0\n",
      "Actual :  0 predicted :  0\n",
      "Actual :  0 predicted :  0\n",
      "Actual :  0 predicted :  0\n",
      "Actual :  0 predicted :  0\n",
      "Actual :  0 predicted :  0\n",
      "Actual :  0 predicted :  0\n",
      "Actual :  0 predicted :  0\n",
      "Actual :  0 predicted :  0\n",
      "Actual :  0 predicted :  0\n",
      "Actual :  0 predicted :  0\n",
      "Actual :  0 predicted :  0\n",
      "Actual :  0 predicted :  0\n",
      "Actual :  0 predicted :  0\n"
     ]
    }
   ],
   "source": [
    "# print(val_dir)\n",
    "img_paths = \"ToyDataset/toy_val\"+\"/circle\"\n",
    "for img in os.listdir(img_paths):\n",
    "    img = cv.imread(img_paths+\"/\"+img)\n",
    "    img = img/255\n",
    "    img = np.expand_dims(img,axis=0)\n",
    "    pred = model.predict(img)\n",
    "    pred = np.argmax(pred)\n",
    "    print(\"Actual : \",0,\"predicted : \", pred)\n",
    "    "
   ]
  },
  {
   "cell_type": "code",
   "execution_count": 69,
   "id": "be00a3e2",
   "metadata": {},
   "outputs": [
    {
     "name": "stdout",
     "output_type": "stream",
     "text": [
      "Actual :  1 predicted :  1\n",
      "Actual :  1 predicted :  1\n",
      "Actual :  1 predicted :  1\n",
      "Actual :  1 predicted :  1\n",
      "Actual :  1 predicted :  1\n",
      "Actual :  1 predicted :  1\n",
      "Actual :  1 predicted :  1\n",
      "Actual :  1 predicted :  1\n",
      "Actual :  1 predicted :  1\n",
      "Actual :  1 predicted :  1\n",
      "Actual :  1 predicted :  1\n",
      "Actual :  1 predicted :  1\n",
      "Actual :  1 predicted :  1\n",
      "Actual :  1 predicted :  1\n",
      "Actual :  1 predicted :  1\n",
      "Actual :  1 predicted :  1\n",
      "Actual :  1 predicted :  1\n",
      "Actual :  1 predicted :  1\n",
      "Actual :  1 predicted :  1\n",
      "Actual :  1 predicted :  1\n",
      "Actual :  1 predicted :  1\n",
      "Actual :  1 predicted :  1\n",
      "Actual :  1 predicted :  1\n",
      "Actual :  1 predicted :  1\n",
      "Actual :  1 predicted :  1\n",
      "Actual :  1 predicted :  1\n",
      "Actual :  1 predicted :  0\n",
      "Actual :  1 predicted :  1\n",
      "Actual :  1 predicted :  1\n",
      "Actual :  1 predicted :  1\n",
      "Actual :  1 predicted :  1\n",
      "Actual :  1 predicted :  1\n",
      "Actual :  1 predicted :  1\n",
      "Actual :  1 predicted :  1\n",
      "Actual :  1 predicted :  1\n",
      "Actual :  1 predicted :  1\n",
      "Actual :  1 predicted :  1\n",
      "Actual :  1 predicted :  1\n",
      "Actual :  1 predicted :  1\n",
      "Actual :  1 predicted :  1\n",
      "Actual :  1 predicted :  1\n",
      "Actual :  1 predicted :  1\n",
      "Actual :  1 predicted :  1\n",
      "Actual :  1 predicted :  1\n",
      "Actual :  1 predicted :  1\n",
      "Actual :  1 predicted :  1\n",
      "Actual :  1 predicted :  1\n",
      "Actual :  1 predicted :  1\n",
      "Actual :  1 predicted :  1\n",
      "Actual :  1 predicted :  1\n",
      "Actual :  1 predicted :  1\n",
      "Actual :  1 predicted :  1\n",
      "Actual :  1 predicted :  1\n",
      "Actual :  1 predicted :  1\n",
      "Actual :  1 predicted :  1\n",
      "Actual :  1 predicted :  1\n",
      "Actual :  1 predicted :  1\n",
      "Actual :  1 predicted :  1\n",
      "Actual :  1 predicted :  1\n",
      "Actual :  1 predicted :  1\n",
      "Actual :  1 predicted :  1\n",
      "Actual :  1 predicted :  1\n",
      "Actual :  1 predicted :  1\n",
      "Actual :  1 predicted :  1\n",
      "Actual :  1 predicted :  1\n",
      "Actual :  1 predicted :  1\n",
      "Actual :  1 predicted :  1\n",
      "Actual :  1 predicted :  1\n",
      "Actual :  1 predicted :  1\n",
      "Actual :  1 predicted :  1\n",
      "Actual :  1 predicted :  1\n",
      "Actual :  1 predicted :  1\n",
      "Actual :  1 predicted :  1\n",
      "Actual :  1 predicted :  1\n",
      "Actual :  1 predicted :  1\n",
      "Actual :  1 predicted :  1\n",
      "Actual :  1 predicted :  1\n",
      "Actual :  1 predicted :  1\n",
      "Actual :  1 predicted :  1\n",
      "Actual :  1 predicted :  1\n",
      "Actual :  1 predicted :  1\n",
      "Actual :  1 predicted :  1\n",
      "Actual :  1 predicted :  1\n",
      "Actual :  1 predicted :  1\n",
      "Actual :  1 predicted :  1\n",
      "Actual :  1 predicted :  1\n",
      "Actual :  1 predicted :  1\n",
      "Actual :  1 predicted :  0\n",
      "Actual :  1 predicted :  1\n",
      "Actual :  1 predicted :  1\n",
      "Actual :  1 predicted :  1\n",
      "Actual :  1 predicted :  1\n",
      "Actual :  1 predicted :  1\n",
      "Actual :  1 predicted :  1\n",
      "Actual :  1 predicted :  1\n",
      "Actual :  1 predicted :  1\n",
      "Actual :  1 predicted :  1\n",
      "Actual :  1 predicted :  1\n",
      "Actual :  1 predicted :  1\n",
      "Actual :  1 predicted :  1\n",
      "Actual :  1 predicted :  1\n",
      "Actual :  1 predicted :  1\n"
     ]
    }
   ],
   "source": [
    "img_paths = \"ToyDataset/toy_val\"+\"/rectangle\"\n",
    "for img in os.listdir(img_paths):\n",
    "    img = cv.imread(img_paths+\"/\"+img)\n",
    "    img = img/255\n",
    "    img = np.expand_dims(img,axis=0)\n",
    "    pred = model.predict(img)\n",
    "    pred = np.argmax(pred)\n",
    "    print(\"Actual : \",1,\"predicted : \", pred)\n",
    "    "
   ]
  },
  {
   "cell_type": "code",
   "execution_count": 53,
   "id": "ebaf17ed",
   "metadata": {},
   "outputs": [],
   "source": [
    "# model.save(\"tousemodel.h5\")"
   ]
  },
  {
   "cell_type": "code",
   "execution_count": 223,
   "id": "37851e17",
   "metadata": {},
   "outputs": [],
   "source": [
    "# model.save(\"model100.h5\")"
   ]
  },
  {
   "cell_type": "markdown",
   "id": "20a4e61d",
   "metadata": {},
   "source": [
    "### Observation \n",
    "<pre>\n",
    "Various model wore trained and experimented, while Resnet gave the best result of 99 percent accuacy on validation data and 98 percent in train data.\n",
    "\n",
    "While using the data augmentation, The result obtained was between 92-95 percent.\n",
    "So only scaling the data gave the better result.\n",
    "\n",
    "<b>Place for the improvement could be : </b>\n",
    "\n",
    "1. Training the model with the black and white as color is not our main concern but cnn did right job in processing images with\n",
    "out black and white.\n",
    "\n",
    "2. If dataset was big, better the model would be.\n",
    "</pre>"
   ]
  },
  {
   "cell_type": "code",
   "execution_count": null,
   "id": "34414563",
   "metadata": {},
   "outputs": [],
   "source": []
  }
 ],
 "metadata": {
  "kernelspec": {
   "display_name": "Python 3 (ipykernel)",
   "language": "python",
   "name": "python3"
  },
  "language_info": {
   "codemirror_mode": {
    "name": "ipython",
    "version": 3
   },
   "file_extension": ".py",
   "mimetype": "text/x-python",
   "name": "python",
   "nbconvert_exporter": "python",
   "pygments_lexer": "ipython3",
   "version": "3.9.2"
  }
 },
 "nbformat": 4,
 "nbformat_minor": 5
}
